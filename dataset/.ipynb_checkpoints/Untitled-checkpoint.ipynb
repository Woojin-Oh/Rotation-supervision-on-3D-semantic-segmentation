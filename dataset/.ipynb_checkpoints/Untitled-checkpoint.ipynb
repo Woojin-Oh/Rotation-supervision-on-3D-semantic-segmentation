{
 "cells": [
  {
   "cell_type": "code",
   "execution_count": 4,
   "id": "626a0f30",
   "metadata": {},
   "outputs": [
    {
     "name": "stdout",
     "output_type": "stream",
     "text": [
      "nuscenes: v1.0-mini - train #samples: 323\n"
     ]
    }
   ],
   "source": [
    "%matplotlib inline\n",
    "\n",
    "from nuScenes import Nuscenes\n",
    "\n",
    "nusc = Nuscenes(version='v1.0-mini', dataroot='/nuScenes/v1.0-mini')"
   ]
  },
  {
   "cell_type": "code",
   "execution_count": 5,
   "id": "443cfc1b",
   "metadata": {},
   "outputs": [
    {
     "ename": "AttributeError",
     "evalue": "'Nuscenes' object has no attribute 'list_lidarseg_categories'",
     "output_type": "error",
     "traceback": [
      "\u001b[1;31m---------------------------------------------------------------------------\u001b[0m",
      "\u001b[1;31mAttributeError\u001b[0m                            Traceback (most recent call last)",
      "Input \u001b[1;32mIn [5]\u001b[0m, in \u001b[0;36m<cell line: 1>\u001b[1;34m()\u001b[0m\n\u001b[1;32m----> 1\u001b[0m \u001b[43mnusc\u001b[49m\u001b[38;5;241;43m.\u001b[39;49m\u001b[43mlist_lidarseg_categories\u001b[49m(sort_by\u001b[38;5;241m=\u001b[39m\u001b[38;5;124m'\u001b[39m\u001b[38;5;124mcount\u001b[39m\u001b[38;5;124m'\u001b[39m)\n",
      "\u001b[1;31mAttributeError\u001b[0m: 'Nuscenes' object has no attribute 'list_lidarseg_categories'"
     ]
    }
   ],
   "source": [
    "nusc.list_lidarseg_categories(sort_by='count')"
   ]
  },
  {
   "cell_type": "code",
   "execution_count": null,
   "id": "0bdc35d2",
   "metadata": {},
   "outputs": [],
   "source": []
  }
 ],
 "metadata": {
  "kernelspec": {
   "display_name": "Python 3 (ipykernel)",
   "language": "python",
   "name": "python3"
  },
  "language_info": {
   "codemirror_mode": {
    "name": "ipython",
    "version": 3
   },
   "file_extension": ".py",
   "mimetype": "text/x-python",
   "name": "python",
   "nbconvert_exporter": "python",
   "pygments_lexer": "ipython3",
   "version": "3.10.6"
  },
  "toc": {
   "base_numbering": 1,
   "nav_menu": {},
   "number_sections": true,
   "sideBar": true,
   "skip_h1_title": false,
   "title_cell": "Table of Contents",
   "title_sidebar": "Contents",
   "toc_cell": false,
   "toc_position": {},
   "toc_section_display": true,
   "toc_window_display": false
  }
 },
 "nbformat": 4,
 "nbformat_minor": 5
}
