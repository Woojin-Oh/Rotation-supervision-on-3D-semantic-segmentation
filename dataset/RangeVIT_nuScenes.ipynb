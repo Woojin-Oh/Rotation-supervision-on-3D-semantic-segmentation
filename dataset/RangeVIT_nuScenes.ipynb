{
 "cells": [
  {
   "cell_type": "code",
   "execution_count": 1,
   "id": "94592596",
   "metadata": {},
   "outputs": [
    {
     "name": "stdout",
     "output_type": "stream",
     "text": [
      "nuscenes: v1.0-mini - train #samples: 323\n",
      "here\n"
     ]
    }
   ],
   "source": [
    "%matplotlib inline\n",
    "\n",
    "from nuScenes import Nuscenes\n",
    "\n",
    "\n",
    "nusc = Nuscenes(version='v1.0-mini', dataroot='C:/Coding/KAIST_intern/rangevit/dataset/nuScenes/v1.0-mini')"
   ]
  },
  {
   "cell_type": "code",
   "execution_count": 2,
   "id": "7c3d179a",
   "metadata": {},
   "outputs": [
    {
     "name": "stdout",
     "output_type": "stream",
     "text": [
      "lidar_path:  C:/Coding/KAIST_intern/rangevit/dataset/nuScenes/v1.0-mini/samples/LIDAR_TOP/n015-2018-07-24-11-22-45+0800__LIDAR_TOP__1532402927647951.pcd.bin\n",
      "lidarseg_path:  C:/Coding/KAIST_intern/rangevit/dataset/nuScenes/v1.0-mini\\lidarseg/v1.0-mini/9d9bf11fb0e144c8b446d54a8a00184f_lidarseg.bin\n"
     ]
    }
   ],
   "source": [
    "pointcloud, sem_label, inst_label = nusc.loadDataByIndex(0)"
   ]
  },
  {
   "cell_type": "code",
   "execution_count": 3,
   "id": "429cc3dd",
   "metadata": {},
   "outputs": [
    {
     "name": "stdout",
     "output_type": "stream",
     "text": [
      "(34688, 1)\n"
     ]
    }
   ],
   "source": [
    "print(sem_label.shape)"
   ]
  },
  {
   "cell_type": "code",
   "execution_count": 4,
   "id": "3e482897",
   "metadata": {},
   "outputs": [
    {
     "name": "stdout",
     "output_type": "stream",
     "text": [
      "(34688, 4)\n"
     ]
    }
   ],
   "source": [
    "print(pointcloud.shape)"
   ]
  },
  {
   "cell_type": "code",
   "execution_count": 12,
   "id": "9e6a78b2",
   "metadata": {},
   "outputs": [
    {
     "name": "stdout",
     "output_type": "stream",
     "text": [
      "0: 6회\n",
      "1: 0회\n",
      "2: 2회\n",
      "3: 0회\n",
      "4: 0회\n",
      "5: 0회\n",
      "6: 0회\n",
      "7: 0회\n",
      "8: 0회\n",
      "9: 0회\n",
      "10: 0회\n",
      "11: 0회\n",
      "12: 0회\n",
      "13: 0회\n",
      "14: 0회\n",
      "15: 3회\n",
      "16: 0회\n",
      "17: 2042회\n",
      "18: 0회\n",
      "19: 0회\n",
      "20: 0회\n",
      "21: 0회\n",
      "22: 0회\n",
      "23: 1056회\n",
      "24: 11283회\n",
      "25: 0회\n",
      "26: 2808회\n",
      "27: 1087회\n",
      "28: 7852회\n",
      "29: 2회\n",
      "30: 277회\n",
      "31: 8302회\n"
     ]
    }
   ],
   "source": [
    "import numpy as np\n",
    "\n",
    "count = np.bincount(sem_label.flatten())\n",
    "\n",
    "# 결과 출력 , 기존 label대로\n",
    "for i, freq in enumerate(count):\n",
    "    print(f\"{i}: {freq}회\")"
   ]
  },
  {
   "cell_type": "code",
   "execution_count": 13,
   "id": "3eb623db",
   "metadata": {},
   "outputs": [
    {
     "name": "stdout",
     "output_type": "stream",
     "text": [
      "0: 8310회\n",
      "1: 0회\n",
      "2: 0회\n",
      "3: 3회\n",
      "4: 2042회\n",
      "5: 0회\n",
      "6: 0회\n",
      "7: 2회\n",
      "8: 0회\n",
      "9: 0회\n",
      "10: 1056회\n",
      "11: 11283회\n",
      "12: 0회\n",
      "13: 2808회\n",
      "14: 1087회\n",
      "15: 7852회\n",
      "16: 277회\n"
     ]
    }
   ],
   "source": [
    "new_label = nusc.labelMapping(sem_label)\n",
    "\n",
    "count = np.bincount(new_label.flatten())\n",
    "\n",
    "# 결과 출력 , customized label대로\n",
    "for i, freq in enumerate(count):\n",
    "    print(f\"{i}: {freq}회\")"
   ]
  },
  {
   "cell_type": "code",
   "execution_count": 16,
   "id": "0aa733b1",
   "metadata": {},
   "outputs": [
    {
     "name": "stdout",
     "output_type": "stream",
     "text": [
      "[[-3.094074   -0.40450823 -1.8556678   4.        ]\n",
      " [-3.2651708  -0.40256774 -1.8554164   5.        ]\n",
      " [-3.4587371  -0.40099955 -1.8600109   8.        ]\n",
      " [-3.6598759  -0.3986961  -1.8586248   6.        ]\n",
      " [-3.8895397  -0.39675766 -1.8623229   8.        ]\n",
      " [-4.1559405  -0.39379346 -1.8717844   6.        ]]\n"
     ]
    }
   ],
   "source": [
    "print(pointcloud[0:6])"
   ]
  },
  {
   "cell_type": "code",
   "execution_count": 1,
   "id": "65990c45",
   "metadata": {},
   "outputs": [
    {
     "ename": "ModuleNotFoundError",
     "evalue": "No module named 'nuscenes'",
     "output_type": "error",
     "traceback": [
      "\u001b[1;31m---------------------------------------------------------------------------\u001b[0m",
      "\u001b[1;31mModuleNotFoundError\u001b[0m                       Traceback (most recent call last)",
      "\u001b[1;32mc:\\Coding\\KAIST_intern\\rangevit\\dataset\\Untitled.ipynb 셀 3\u001b[0m in \u001b[0;36m<cell line: 3>\u001b[1;34m()\u001b[0m\n\u001b[0;32m      <a href='vscode-notebook-cell:/c%3A/Coding/KAIST_intern/rangevit/dataset/Untitled.ipynb#W2sZmlsZQ%3D%3D?line=0'>1</a>\u001b[0m get_ipython()\u001b[39m.\u001b[39mrun_line_magic(\u001b[39m'\u001b[39m\u001b[39mmatplotlib\u001b[39m\u001b[39m'\u001b[39m, \u001b[39m'\u001b[39m\u001b[39minline\u001b[39m\u001b[39m'\u001b[39m)\n\u001b[1;32m----> <a href='vscode-notebook-cell:/c%3A/Coding/KAIST_intern/rangevit/dataset/Untitled.ipynb#W2sZmlsZQ%3D%3D?line=2'>3</a>\u001b[0m \u001b[39mfrom\u001b[39;00m \u001b[39mnuscenes\u001b[39;00m \u001b[39mimport\u001b[39;00m NuScenes\n\u001b[0;32m      <a href='vscode-notebook-cell:/c%3A/Coding/KAIST_intern/rangevit/dataset/Untitled.ipynb#W2sZmlsZQ%3D%3D?line=4'>5</a>\u001b[0m nusc \u001b[39m=\u001b[39m NuScenes(version\u001b[39m=\u001b[39m\u001b[39m'\u001b[39m\u001b[39mv1.0-mini\u001b[39m\u001b[39m'\u001b[39m, dataroot\u001b[39m=\u001b[39m\u001b[39m'\u001b[39m\u001b[39m/data/sets/nuscenes\u001b[39m\u001b[39m'\u001b[39m, verbose\u001b[39m=\u001b[39m\u001b[39mTrue\u001b[39;00m)\n",
      "\u001b[1;31mModuleNotFoundError\u001b[0m: No module named 'nuscenes'"
     ]
    }
   ],
   "source": [
    "%matplotlib inline\n",
    "\n",
    "from nuscenes import NuScenes\n",
    "\n",
    "nusc = NuScenes(version='v1.0-mini', dataroot='/data/sets/nuscenes', verbose=True)"
   ]
  },
  {
   "cell_type": "code",
   "execution_count": null,
   "id": "353d5ec0",
   "metadata": {},
   "outputs": [],
   "source": []
  }
 ],
 "metadata": {
  "kernelspec": {
   "display_name": "Python 3 (ipykernel)",
   "language": "python",
   "name": "python3"
  },
  "language_info": {
   "codemirror_mode": {
    "name": "ipython",
    "version": 3
   },
   "file_extension": ".py",
   "mimetype": "text/x-python",
   "name": "python",
   "nbconvert_exporter": "python",
   "pygments_lexer": "ipython3",
   "version": "3.10.6"
  },
  "toc": {
   "base_numbering": 1,
   "nav_menu": {},
   "number_sections": true,
   "sideBar": true,
   "skip_h1_title": false,
   "title_cell": "Table of Contents",
   "title_sidebar": "Contents",
   "toc_cell": false,
   "toc_position": {},
   "toc_section_display": true,
   "toc_window_display": false
  }
 },
 "nbformat": 4,
 "nbformat_minor": 5
}
